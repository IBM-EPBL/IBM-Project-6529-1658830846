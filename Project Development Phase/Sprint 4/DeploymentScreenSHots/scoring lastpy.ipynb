{
 "cells": [
  {
   "cell_type": "code",
   "execution_count": 4,
   "id": "26eec11f",
   "metadata": {},
   "outputs": [
    {
     "name": "stdout",
     "output_type": "stream",
     "text": [
      "-1\n",
      "The Website is secure.. Continue\n"
     ]
    }
   ],
   "source": [
    "import requests\n",
    "\n",
    "# NOTE: you must manually set API_KEY below using information retrieved from your IBM Cloud account.\n",
    "API_KEY = \"EBqzLpYAl_xlGqB8Q6F0PZ5q20IhcWTH2hzNer0iH1C3\"\n",
    "token_response = requests.post('https://iam.cloud.ibm.com/identity/token', data={\"apikey\":\n",
    " API_KEY, \"grant_type\": 'urn:ibm:params:oauth:grant-type:apikey'})\n",
    "mltoken = token_response.json()[\"access_token\"]\n",
    "\n",
    "header = {'Content-Type': 'application/json', 'Authorization': 'Bearer ' + mltoken}\n",
    "\n",
    "# NOTE: manually define and pass the array(s) of values to be scored in the next line\n",
    "payload_scoring = {\"input_data\": [{\"field\": [[\"UsingIP\",\"LongURL\",\"ShortURL\",\"Symbol@\",\"Redirecting//\",\"PrefixSuffix-\",\"SubDomains\",\"HTTPS\",\"DomainRegLen\",\"Favicon\",\"NonStdPort\",\"HTTPSDomainURL\",\"RequestURL\",\"AnchorURL\",\"LinksInScriptTags\",\"ServerFormHandler\",\"InfoEmail\",\"AbnormalURL\",\"WebsiteForwarding\",\"StatusBarCust\",\"DisableRightClick\",\"UsingPopupWindow\",\"IframeRedirection\",\"AgeofDomain\",\"DNSRecording\",\"WebsiteTraffic\",\"PageRank\",\"GoogleIndex\",\"LinksPointingToPage\",\"StatsReport\"\n",
    "]], \"values\": [[1,1,1,1,1,-1,-1,-1,-1,1,1,1,1,-1,-1,1,1,1,0,1,1,1,1,-1,-1,-1,-1,1,0,1]]}]}\n",
    "\n",
    "response_scoring = requests.post('https://us-south.ml.cloud.ibm.com/ml/v4/deployments/4f9285fd-2fef-4630-b849-6cdd0b11dabc/predictions?version=2022-11-18', json=payload_scoring,\n",
    " headers={'Authorization': 'Bearer ' + mltoken})\n",
    "#print(\"Scoring response\")\n",
    "predictions=response_scoring.json()\n",
    "\n",
    "pred=print(predictions['predictions'][0]['values'][0][0])\n",
    "if(pred != 1):\n",
    "    print(\"The Website is secure.. Continue\")\n",
    "else:\n",
    "    print(\"The Website is not Legitimate... BEWARE!!\")"
   ]
  },
  {
   "cell_type": "code",
   "execution_count": null,
   "id": "5e3feb5c",
   "metadata": {},
   "outputs": [],
   "source": []
  }
 ],
 "metadata": {
  "kernelspec": {
   "display_name": "Python 3 (ipykernel)",
   "language": "python",
   "name": "python3"
  },
  "language_info": {
   "codemirror_mode": {
    "name": "ipython",
    "version": 3
   },
   "file_extension": ".py",
   "mimetype": "text/x-python",
   "name": "python",
   "nbconvert_exporter": "python",
   "pygments_lexer": "ipython3",
   "version": "3.9.12"
  }
 },
 "nbformat": 4,
 "nbformat_minor": 5
}
